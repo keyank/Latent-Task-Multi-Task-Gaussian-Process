{
 "cells": [
  {
   "cell_type": "code",
   "execution_count": 29,
   "metadata": {},
   "outputs": [],
   "source": [
    "import numpy as np\n",
    "import pandas as pd\n",
    "import math\n",
    "import scipy\n",
    "import sklearn\n",
    "from sklearn.gaussian_process.kernels import ConstantKernel, RBF, DotProduct\n",
    "from sklearn.gaussian_process import GaussianProcessRegressor\n",
    "import sklearn.gaussian_process.kernels as kernels\n",
    "from scipy.stats import spearmanr, pearsonr"
   ]
  },
  {
   "cell_type": "code",
   "execution_count": 38,
   "metadata": {},
   "outputs": [
    {
     "name": "stderr",
     "output_type": "stream",
     "text": [
      "/Users/karthikeyan/anaconda/lib/python3.6/site-packages/ipykernel_launcher.py:3: FutureWarning: reshape is deprecated and will raise in a subsequent release. Please use .values.reshape(...) instead\n",
      "  This is separate from the ipykernel package so we can avoid doing imports until\n"
     ]
    }
   ],
   "source": [
    "Data = pd.read_csv('Data.csv' , )\n",
    "X = Data['x']\n",
    "X  = X.reshape((10, 1))\n",
    "Y = Data['y']"
   ]
  },
  {
   "cell_type": "code",
   "execution_count": 53,
   "metadata": {},
   "outputs": [],
   "source": [
    "def getPrediction(X, Y, X1):\n",
    "    gp = GaussianProcessRegressor(kernel=kernels.DotProduct(), optimizer='fmin_l_bfgs_b' , alpha=1e-10, normalize_y=True)\n",
    "    gp.fit(X, Y)\n",
    "    return gp.predict(X1)"
   ]
  },
  {
   "cell_type": "code",
   "execution_count": 30,
   "metadata": {},
   "outputs": [],
   "source": []
  },
  {
   "cell_type": "code",
   "execution_count": 54,
   "metadata": {
    "collapsed": true
   },
   "outputs": [],
   "source": [
    "def getFullCorrelation(X, T, Y, num_t):\n",
    "    PredictionFunctions = np.zeros((len(X) , num_t ))\n",
    "    Correlations = np.zeros((num_t, num_t))\n",
    "    for t in range(0, num_t):\n",
    "        X_t = X[T == t]\n",
    "        Y_t = Y[T == t]\n",
    "        PredictionFunctions[:, t] = getPrediction(X_t, Y_t, X)\n",
    "    for i in range(0, num_t):\n",
    "        for j in range(i, num_t):\n",
    "            Correlations[i, j] = pearsonr(PredictionFunctions[:, i], PredictionFunctions[:, j])[0]\n",
    "            Correlations[j , i] = Correlations[i, j]\n",
    "    return PredictionFunctions, Correlations"
   ]
  },
  {
   "cell_type": "code",
   "execution_count": 63,
   "metadata": {},
   "outputs": [
    {
     "name": "stdout",
     "output_type": "stream",
     "text": [
      "[[ 1.95857105  2.12        2.06        2.05333333]\n",
      " [ 2.97360525  3.09666667  3.056       3.04166667]\n",
      " [ 3.98863897  4.07333333  4.052       4.03      ]\n",
      " [ 5.0036727   5.05        5.048       5.01833333]\n",
      " [ 6.01870594  6.02666667  6.044       6.00666667]\n",
      " [ 7.03373966  7.00333333  7.04        6.995     ]\n",
      " [ 8.04877434  7.98        8.036       7.98333333]\n",
      " [ 9.06380711  8.95666667  9.032       8.97166667]\n",
      " [10.07884178  9.93333333 10.028       9.96      ]\n",
      " [11.09387741 10.91       11.024      10.94833333]]\n",
      "[[1. 1. 1. 1.]\n",
      " [1. 1. 1. 1.]\n",
      " [1. 1. 1. 1.]\n",
      " [1. 1. 1. 1.]]\n"
     ]
    }
   ],
   "source": [
    "T = np.array([2, 0, 3, 1, 0, 2, 1, 0, 3, 0])\n",
    "PredictionFunctions, Correlations = getFullCorrelation(X, T, Y, 4)\n",
    "print(PredictionFunctions)\n",
    "print(Correlations)"
   ]
  },
  {
   "cell_type": "code",
   "execution_count": null,
   "metadata": {
    "collapsed": true
   },
   "outputs": [],
   "source": []
  },
  {
   "cell_type": "code",
   "execution_count": null,
   "metadata": {
    "collapsed": true
   },
   "outputs": [],
   "source": [
    "def MTGP(X, T, Y, X_pred, T_pred, Correlations):\n",
    "    N = len(X)\n",
    "    Cn = np.zeros((N, N))\n",
    "    for i in range(0, N):\n",
    "        for j in range(0, N):\n",
    "            Cn[i, j] = kernelfunction(X[i],  X[j])*Correlations[T[i] , T[j]]\n",
    "            Cn[j , i] = Cn[i , j]"
   ]
  },
  {
   "cell_type": "code",
   "execution_count": 48,
   "metadata": {},
   "outputs": [],
   "source": [
    "# def getCorrelation(X1, Y1, X2, Y2):\n",
    "#     X_full = np.concatenate((X1, X2), axis=0)\n",
    "#     F1 = getPrediction(X1, Y1, X_full)\n",
    "#     F2 = getPrediction(X2, Y2, X_full)\n",
    "#     corr = pearsonr(F1, F2)\n",
    "#     return corr[0]"
   ]
  }
 ],
 "metadata": {
  "kernelspec": {
   "display_name": "Python 3",
   "language": "python",
   "name": "python3"
  },
  "language_info": {
   "codemirror_mode": {
    "name": "ipython",
    "version": 3
   },
   "file_extension": ".py",
   "mimetype": "text/x-python",
   "name": "python",
   "nbconvert_exporter": "python",
   "pygments_lexer": "ipython3",
   "version": "3.6.1"
  }
 },
 "nbformat": 4,
 "nbformat_minor": 2
}
