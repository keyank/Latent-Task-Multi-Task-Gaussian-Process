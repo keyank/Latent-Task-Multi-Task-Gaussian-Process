{
 "cells": [
  {
   "cell_type": "markdown",
   "metadata": {},
   "source": [
    "# import statements"
   ]
  },
  {
   "cell_type": "code",
   "execution_count": 1,
   "metadata": {
    "collapsed": true
   },
   "outputs": [],
   "source": [
    "import numpy as np\n",
    "import pandas as pd\n",
    "import math\n",
    "import scipy\n",
    "import sklearn\n",
    "from sklearn.gaussian_process.kernels import ConstantKernel, RBF, DotProduct\n",
    "from sklearn.gaussian_process import GaussianProcessRegressor\n",
    "import sklearn.gaussian_process.kernels as kernels\n",
    "from scipy.stats import spearmanr, pearsonr\n",
    "import scipy.stats\n",
    "import random\n",
    "\n",
    "import warnings\n",
    "warnings.filterwarnings('ignore')\n",
    "\n",
    "from matplotlib import pyplot as plt \n",
    "import seaborn as sns"
   ]
  },
  {
   "cell_type": "markdown",
   "metadata": {},
   "source": [
    "# Data"
   ]
  },
  {
   "cell_type": "code",
   "execution_count": 30,
   "metadata": {},
   "outputs": [],
   "source": [
    "# Data = pd.read_csv('Motor.csv')\n",
    "\n",
    "# Data_train  = Data.sample(frac = 0.6)\n",
    "# Data_test = Data.sample(frac= 1)\n",
    "\n",
    "Data_train = pd.read_csv('Train.csv')\n",
    "Data_test = pd.read_csv('Test.csv')\n",
    "\n",
    "X_train = Data_train['x']\n",
    "X_train  = X_train.values.reshape((len(X_train), 1))\n",
    "Y_train = Data_train['y']\n",
    "\n",
    "X_test = Data_test['x']\n",
    "X_test  = X_test.values.reshape((len(X_test), 1))\n",
    "Y_test = Data_test['y']"
   ]
  },
  {
   "cell_type": "markdown",
   "metadata": {},
   "source": [
    "# Covariance Estimation between Tasks "
   ]
  },
  {
   "cell_type": "code",
   "execution_count": 3,
   "metadata": {
    "collapsed": true
   },
   "outputs": [],
   "source": [
    "def getPrediction(X, Y, X1):\n",
    "    gp = GaussianProcessRegressor(kernel=kernels.DotProduct(), optimizer='fmin_l_bfgs_b' , alpha=1e-10, normalize_y=True)\n",
    "    gp.fit(X, Y)\n",
    "    return gp.predict(X1)\n",
    "\n",
    "\n",
    "def getFullCorrelation(X, T, Y, num_task):\n",
    "    PredictionFunctions = np.zeros((len(X) , num_task ))\n",
    "    Correlations = np.zeros((num_task, num_task))\n",
    "    if (Correlations.shape[0] != num_task ):\n",
    "        print(Correlations.shape[0], num_task)\n",
    "        print('ERROR - NUMBER OF TASKS NOT MATCHING- getFULLCorr !!!')\n",
    "        return 0\n",
    "    \n",
    "    for t in range(0, num_task):\n",
    "        X_t = X[T == t]\n",
    "        Y_t = Y[T == t]\n",
    "        PredictionFunctions[:, t] = getPrediction(X_t, Y_t, X)\n",
    "    for i in range(0, num_task):\n",
    "        for j in range(i, num_task):\n",
    "            Correlations[i, j] = np.cov(PredictionFunctions[:, i], PredictionFunctions[:, j])[0, 1]\n",
    "            Correlations[j , i] = Correlations[i, j]\n",
    "    return PredictionFunctions, Correlations"
   ]
  },
  {
   "cell_type": "markdown",
   "metadata": {},
   "source": [
    "# Kernel functions to choose"
   ]
  },
  {
   "cell_type": "code",
   "execution_count": 28,
   "metadata": {
    "collapsed": true
   },
   "outputs": [],
   "source": [
    "def kernelfunction(a, b):\n",
    "    if (kernel_number == 1):\n",
    "        return  math.exp(-1*(np.dot(a-b , a-b) + 1)  )\n",
    "    if (kernel_number == 2):\n",
    "        return  np.dot(a, b) + 1\n",
    "    if (kernel_number == 3):\n",
    "        return  np.dot(a, b)*np.dot(a, b) + np.dot(a, b) + 1\n",
    "    if (kernel_number == 4):\n",
    "        return  np.dot(a, b)*np.dot(a, b)*np.dot(a, b) + np.dot(a, b)*np.dot(a, b) + np.dot(a, b)  + 1\n",
    "    else:\n",
    "        return 1"
   ]
  },
  {
   "cell_type": "markdown",
   "metadata": {},
   "source": [
    "# KMeans Model for clustering with initialization"
   ]
  },
  {
   "cell_type": "code",
   "execution_count": 6,
   "metadata": {
    "collapsed": true
   },
   "outputs": [],
   "source": [
    "# from sklearn.cluster import KMeans\n",
    "\n",
    "# def GetInitClusters(X, T, num_clusters):\n",
    "#     init_clusters = np.zeros(num_clusters)\n",
    "#     for i in range(num_clusters):\n",
    "#         init_clusters[i] = np.mean(X[T == i])\n",
    "#     return init_clusters\n",
    "\n",
    "# def PredictKMeans(X, T, num_clusters):\n",
    "#     init_clusters = getInitClusters(X, T, num_clusters)\n",
    "#     KM = KMeans(n_clusters = num_clusters, init=init_clusters, algorithm='full')\n",
    "#     KM.fit(X)\n",
    "#     return KM.predict(X)\n",
    "\n",
    "# def InitializeCluster(X, num_clusters):\n",
    "#     KM = KMeans(n_clusters = num_clusters, init='k-means++', algorithm='full')\n",
    "#     return KM.fit_predict(X)\n"
   ]
  },
  {
   "cell_type": "markdown",
   "metadata": {},
   "source": [
    "# GMM Model for clustering with initialization"
   ]
  },
  {
   "cell_type": "code",
   "execution_count": 18,
   "metadata": {},
   "outputs": [],
   "source": [
    "from sklearn.mixture import GaussianMixture\n",
    "\n",
    "def GetMeanPrecisionWeigth(X, T, num_clusters):\n",
    "    init_clusters_mean = np.zeros(num_clusters)\n",
    "    init_clusters_Precision = np.zeros(num_clusters)\n",
    "    init_clusters_Weigth = np.zeros(num_clusters)\n",
    "    for i in range(num_clusters):\n",
    "        init_clusters_mean[i] = np.mean(X[T == i])\n",
    "        var = np.var(X[T == i])\n",
    "        var = var.reshape((len(X[0]) , len(X[0]) ))\n",
    "        var = var + sigma2\n",
    "        init_clusters_Precision[i] = np.linalg.inv( var )\n",
    "        init_clusters_Weigth[i] = len(X[T == i])/len(X)\n",
    "    return init_clusters_mean, init_clusters_Precision, init_clusters_Weigth\n",
    "\n",
    "def PredictGMM(X, T, num_clusters):\n",
    "    num_clusters = len(set(T))\n",
    "    mean, var, weigth = GetMeanPrecisionWeigth(X_train, T, num_clusters)\n",
    "    mean  = mean.reshape((len(mean) , len(X_train[0])))\n",
    "    var = var.reshape((len(var), 1, 1))\n",
    "    gmm = GaussianMixture(n_components=num_clusters, means_init=mean, precisions_init=var, weights_init=weigth)\n",
    "    gmm.fit(X)\n",
    "    return gmm.predict(X)\n",
    "    \n",
    "\n",
    "def initializeGMM(X, num_clusters):\n",
    "    gmm = GaussianMixture(n_components=num_clusters)\n",
    "    gmm.fit(X)\n",
    "    return gmm.predict(X)\n",
    "\n"
   ]
  },
  {
   "cell_type": "code",
   "execution_count": null,
   "metadata": {},
   "outputs": [],
   "source": []
  },
  {
   "cell_type": "code",
   "execution_count": null,
   "metadata": {},
   "outputs": [],
   "source": []
  },
  {
   "cell_type": "markdown",
   "metadata": {},
   "source": [
    "# Multi-Task Gaussian Process"
   ]
  },
  {
   "cell_type": "code",
   "execution_count": 6,
   "metadata": {
    "collapsed": true
   },
   "outputs": [],
   "source": [
    "def MTGPPredict(x_new, t_new, X, T, alpha, Cn_inv, Correlations, sigma2):\n",
    "    N = len(X)\n",
    "    Knew = np.zeros(N)\n",
    "    for i in range(N):\n",
    "        Knew[i] = kernelfunction(x_new, X[i])*Correlations[t_new , T[i]]\n",
    "    mean = np.dot(Knew, alpha)\n",
    "    var1 = np.dot(np.dot(Knew, Cn_inv) , Knew)\n",
    "    var =  kernelfunction(x_new, x_new)*Correlations[t_new , t_new] + sigma2 - var1\n",
    "    return mean, var\n",
    "\n",
    "\n",
    "\n",
    "\n",
    "def MTGP(X, T, Y, X_pred, T_pred, Correlations , sigma2 , num_task):\n",
    "    if (Correlations.shape[0] != num_task):\n",
    "        print(Correlations.shape[0], num_task)\n",
    "        print('ERROR - NUMBER OF TASKS NOT MATCHING !!!')\n",
    "        return 0\n",
    "    N = len(X)    \n",
    "    Cn = np.zeros((N, N))\n",
    "    for i in range(0, N):\n",
    "        for j in range(i, N):\n",
    "            Cn[i, j] = kernelfunction(X[i],  X[j])*Correlations[T[i] , T[j]]\n",
    "            Cn[j , i] = Cn[i , j]\n",
    "    Cn = Cn + sigma2*np.identity(N)\n",
    "    Cn_inv = np.linalg.inv(Cn)\n",
    "    alpha = np.dot(Cn_inv, Y)\n",
    "    Y_pred_mean = np.zeros(len(X_pred))\n",
    "    Y_pred_var = np.zeros(len(X_pred))\n",
    "    for i in range(len(X_pred)):\n",
    "        Y_pred_mean[i], Y_pred_var[i] = MTGPPredict(X_pred[i] , T_pred[i] , X, T,alpha, Cn_inv, Correlations , sigma2 )\n",
    "    return Y_pred_mean, Y_pred_var\n"
   ]
  },
  {
   "cell_type": "markdown",
   "metadata": {},
   "source": [
    "# Plot functions and creating proper Tasks"
   ]
  },
  {
   "cell_type": "code",
   "execution_count": 7,
   "metadata": {
    "collapsed": true
   },
   "outputs": [],
   "source": [
    "def plotPoints(fr):\n",
    "    sns.lmplot(x='input' , y='value', data=fr, hue='class',palette='hls', fit_reg=False,size= 5, aspect=5/3, legend_out=False,scatter_kws={\"s\": 70})\n",
    "    plt.show()\n",
    "    \n",
    "\n",
    "def plotLine(fr):\n",
    "    sns.pointplot(x='input' , y='value', data=fr, hue='class',palette='hls', fit_reg=False,size= 5, aspect=5/3, legend_out=False,scatter_kws={\"s\": 70})\n",
    "    plt.show()\n",
    "\n",
    "\n",
    "def MakeTask(T):\n",
    "    dictionary = dict( zip(list(set(T)) , np.arange(len(set(T))))  )\n",
    "    for i in range(len(T)):\n",
    "        T[i] = dictionary[T[i]]\n",
    "    T = T.astype('int')\n",
    "    return T\n"
   ]
  },
  {
   "cell_type": "markdown",
   "metadata": {},
   "source": [
    "# Hyper Parameters to optimize"
   ]
  },
  {
   "cell_type": "code",
   "execution_count": 8,
   "metadata": {
    "collapsed": true
   },
   "outputs": [],
   "source": []
  },
  {
   "cell_type": "markdown",
   "metadata": {},
   "source": [
    "# Update tasks accordingly"
   ]
  },
  {
   "cell_type": "code",
   "execution_count": 9,
   "metadata": {
    "collapsed": true
   },
   "outputs": [],
   "source": [
    "def getProb(Y_true, Y_pred_mean, Y_pred_var):\n",
    "    prob = np.zeros(len(Y_true))\n",
    "    for i in range(len(Y_true)):\n",
    "        p = scipy.stats.norm(Y_pred_mean[i], Y_pred_var[i]).pdf(Y_true[i])\n",
    "        prob[i] = p \n",
    "    return prob\n",
    "\n",
    "def getPredInput(X, Y, num_task):\n",
    "    X_pred = np.repeat(X, num_task)\n",
    "    T_pred = np.repeat(np.repeat([np.arange(num_task)], len(X), axis=0), 1)\n",
    "    Y_true = np.repeat(np.array(Y), num_task)\n",
    "    return X_pred, T_pred, Y_true\n",
    "    \n",
    "\n",
    "def MTGPUpdate(X, T, Y, sigma2 ):\n",
    "    T = MakeTask(T)\n",
    "    num_task = len(set(T))\n",
    "    PredictionFunctions, Correlations = getFullCorrelation(X, T, Y, num_task)\n",
    "    X_pred, T_pred, Y_true = getPredInput(X, Y, num_task)\n",
    "    Y_pred_mean, Y_pred_var = MTGP(X, T, Y, X_pred, T_pred, Correlations , sigma2 , num_task)\n",
    "    Prob_Task = getProb(Y_true, Y_pred_mean, Y_pred_var)\n",
    "    new_Tasks = np.zeros(len(X))\n",
    "    for i in range(len(X)):\n",
    "        new_Tasks[i] = np.argmax(Prob_Task[ i*num_task : (i+1)*num_task ])\n",
    "    return MakeTask(new_Tasks)\n",
    "\n",
    "\n",
    "                     "
   ]
  },
  {
   "cell_type": "markdown",
   "metadata": {},
   "source": [
    "# MTGP iterate"
   ]
  },
  {
   "cell_type": "code",
   "execution_count": 10,
   "metadata": {
    "collapsed": true
   },
   "outputs": [],
   "source": [
    "def MTGPIterate(X, T, Y, num_iter, sigma2):\n",
    "    for i in range(num_iter):\n",
    "        T = MTGPUpdate(X, T, Y, sigma2 )\n",
    "        num_task = len(set(T))\n",
    "        T = PredictGMM(X=X, T=T, num_clusters=num_task )\n",
    "    return T\n",
    "        \n",
    "    "
   ]
  },
  {
   "cell_type": "code",
   "execution_count": 23,
   "metadata": {
    "collapsed": true
   },
   "outputs": [],
   "source": [
    "def getTaskPredData(X, T, X_pred):\n",
    "    num_clusters = len(set(T))\n",
    "    mean, var, weigth = GetMeanPrecisionWeigth(X, T, num_clusters)\n",
    "    mean  = mean.reshape((len(mean) , len(X_train[0])))\n",
    "    var = var.reshape((len(var), 1, 1))\n",
    "    gmm = GaussianMixture(n_components=num_clusters, means_init=mean, precisions_init=var, weights_init=weigth)\n",
    "    gmm.fit(X)\n",
    "    return gmm.predict(X_pred)\n",
    "    "
   ]
  },
  {
   "cell_type": "markdown",
   "metadata": {},
   "source": [
    "# Train and Testing "
   ]
  },
  {
   "cell_type": "code",
   "execution_count": 44,
   "metadata": {},
   "outputs": [
    {
     "name": "stdout",
     "output_type": "stream",
     "text": [
      "1  kernel_number\t 1 \tloss =  0.012435683895201178\n",
      "2  kernel_number\t 1 \tloss =  0.012435683895201192\n",
      "3  kernel_number\t 1 \tloss =  0.012435683895201192\n",
      "4  kernel_number\t 1 \tloss =  0.012435683895201192\n",
      "5  kernel_number\t 1 \tloss =  0.012435683895201192\n",
      "1  kernel_number\t 2 \tloss =  0.45813518892557376\n",
      "2  kernel_number\t 2 \tloss =  0.36803802948153747\n",
      "3  kernel_number\t 2 \tloss =  0.4576039489717195\n",
      "4  kernel_number\t 2 \tloss =  0.4576039489717195\n",
      "5  kernel_number\t 2 \tloss =  0.368545593358551\n",
      "1  kernel_number\t 3 \tloss =  0.4589852998759698\n",
      "2  kernel_number\t 3 \tloss =  0.02950743602899391\n",
      "3  kernel_number\t 3 \tloss =  0.23319801708299476\n",
      "4  kernel_number\t 3 \tloss =  0.4589852998759698\n",
      "5  kernel_number\t 3 \tloss =  0.4589853016647665\n",
      "1  kernel_number\t 4 \tloss =  0.07414205644093504\n",
      "2  kernel_number\t 4 \tloss =  0.07414205644093504\n",
      "3  kernel_number\t 4 \tloss =  0.07414205644093504\n",
      "4  kernel_number\t 4 \tloss =  0.07414200794427617\n",
      "5  kernel_number\t 4 \tloss =  0.07414200794427617\n"
     ]
    }
   ],
   "source": [
    "num_task = 5\n",
    "num_iter = 10\n",
    "sigma2 = 1e-13\n",
    "kernel_number = 3\n",
    "\n",
    "\n",
    "def TrainPredict(X_train, Y_train, X_test, Y_test, num_task, num_iter, sigma2):\n",
    "    T = initializeGMM(X=X_train, num_clusters=num_task)\n",
    "    T = MTGPIterate(X_train, T, Y_train, num_iter, sigma2)\n",
    "    T = MakeTask(T)\n",
    "    num_task = len(set(T))\n",
    "    PredictionFunctions, Correlations = getFullCorrelation(X_train, T, Y_train, num_task)\n",
    "    T_test = getTaskPredData(X_train, T, X_test)\n",
    "    Y_pred_mean, Y_pred_var = MTGP(X_train, T, Y_train, X_test, T_test, Correlations , sigma2 , num_task)\n",
    "    diff = Y_pred_mean - Y_test\n",
    "    loss = math.sqrt( np.dot(diff, diff)/len(diff) )\n",
    "#     print('num_task = ' , num_task, 'sigma2 = ', sigma2, 'loss = ' ,loss)\n",
    "    return loss\n",
    "\n",
    "    \n",
    "\n",
    "for kernel_number in (1, 2, 3, 4):\n",
    "    for  num_task in (1, 2, 3, 4, 5):\n",
    "        min_loss = 1000000\n",
    "        for sigma2 in (1e-03, 1e-04, 1e-05, 1e-06, 1e-07, 1e-08, 1e-09, 1e-11, 1e-12, 1e-13, 1e-14, 1e-15, 1e-16, 1e-17):\n",
    "            loss = TrainPredict(X_train, Y_train, X_test, Y_test, num_task, num_iter, sigma2)\n",
    "            if (loss < min_loss):\n",
    "                min_loss = loss\n",
    "        print(num_task, ' kernel_number\\t' , kernel_number , '\\tloss = ' , min_loss)\n",
    "        \n",
    "    \n",
    "    "
   ]
  },
  {
   "cell_type": "code",
   "execution_count": null,
   "metadata": {
    "collapsed": true
   },
   "outputs": [],
   "source": []
  }
 ],
 "metadata": {
  "kernelspec": {
   "display_name": "Python 3",
   "language": "python",
   "name": "python3"
  },
  "language_info": {
   "codemirror_mode": {
    "name": "ipython",
    "version": 3
   },
   "file_extension": ".py",
   "mimetype": "text/x-python",
   "name": "python",
   "nbconvert_exporter": "python",
   "pygments_lexer": "ipython3",
   "version": "3.6.1"
  }
 },
 "nbformat": 4,
 "nbformat_minor": 2
}
