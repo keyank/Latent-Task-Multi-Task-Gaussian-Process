{
 "cells": [
  {
   "cell_type": "code",
   "execution_count": 79,
   "metadata": {},
   "outputs": [],
   "source": [
    "import numpy as np\n",
    "import pandas as pd\n",
    "import math\n",
    "import scipy\n",
    "import sklearn\n",
    "from sklearn.gaussian_process.kernels import ConstantKernel, RBF, DotProduct\n",
    "from sklearn.gaussian_process import GaussianProcessRegressor\n",
    "from scipy.stats import spearmanr, pearsonr"
   ]
  },
  {
   "cell_type": "code",
   "execution_count": 48,
   "metadata": {},
   "outputs": [],
   "source": [
    "Data = pd.read_csv('Data.csv' , )\n",
    "X = Data['x']\n",
    "X  = X.reshape((10, 1))\n",
    "Y = Data['y']"
   ]
  },
  {
   "cell_type": "code",
   "execution_count": null,
   "metadata": {},
   "outputs": [],
   "source": [
    "def getPrediction(X, Y, X1):\n",
    "    gp = GaussianProcessRegressor(kernel=RBF(1) , alpha=0, optimizer=None, normalize_y=True)\n",
    "    gp.fit(X, Y)\n",
    "    return gp.predict(X1)"
   ]
  },
  {
   "cell_type": "code",
   "execution_count": 88,
   "metadata": {},
   "outputs": [],
   "source": [
    "def getCorrelation(X1, Y1, X2, Y2):\n",
    "    X_full = np.concatenate((X1, X2), axis=0)\n",
    "    F1 = getPrediction(X1, Y1, X_full)\n",
    "    F2 = getPrediction(X2, Y2, X_full)\n",
    "    corr = pearsonr(F1, F2)\n",
    "    return corr[0]"
   ]
  },
  {
   "cell_type": "code",
   "execution_count": null,
   "metadata": {},
   "outputs": [],
   "source": []
  }
 ],
 "metadata": {
  "kernelspec": {
   "display_name": "Python 3",
   "language": "python",
   "name": "python3"
  },
  "language_info": {
   "codemirror_mode": {
    "name": "ipython",
    "version": 3
   },
   "file_extension": ".py",
   "mimetype": "text/x-python",
   "name": "python",
   "nbconvert_exporter": "python",
   "pygments_lexer": "ipython3",
   "version": "3.6.1"
  }
 },
 "nbformat": 4,
 "nbformat_minor": 2
}
