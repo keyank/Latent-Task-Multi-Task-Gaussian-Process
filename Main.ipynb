{
 "cells": [
  {
   "cell_type": "code",
   "execution_count": 67,
   "metadata": {},
   "outputs": [],
   "source": [
    "import numpy as np\n",
    "import pandas as pd\n",
    "import math\n",
    "import scipy\n",
    "import sklearn\n",
    "from sklearn.gaussian_process.kernels import ConstantKernel, RBF, DotProduct\n",
    "from sklearn.gaussian_process import GaussianProcessRegressor\n",
    "import sklearn.gaussian_process.kernels as kernels\n",
    "from scipy.stats import spearmanr, pearsonr\n",
    "import scipy.stats"
   ]
  },
  {
   "cell_type": "code",
   "execution_count": 25,
   "metadata": {},
   "outputs": [],
   "source": [
    "Data = pd.read_csv('Data.csv' , )\n",
    "X = Data['x']\n",
    "X  = X.values.reshape((10, 1))\n",
    "Y = Data['y']"
   ]
  },
  {
   "cell_type": "code",
   "execution_count": 3,
   "metadata": {},
   "outputs": [],
   "source": [
    "def getPrediction(X, Y, X1):\n",
    "    gp = GaussianProcessRegressor(kernel=kernels.DotProduct(), optimizer='fmin_l_bfgs_b' , alpha=1e-10, normalize_y=True)\n",
    "    gp.fit(X, Y)\n",
    "    return gp.predict(X1)"
   ]
  },
  {
   "cell_type": "code",
   "execution_count": 4,
   "metadata": {
    "collapsed": true
   },
   "outputs": [],
   "source": [
    "def getFullCorrelation(X, T, Y, num_t):\n",
    "    PredictionFunctions = np.zeros((len(X) , num_t ))\n",
    "    Correlations = np.zeros((num_t, num_t))\n",
    "    for t in range(0, num_t):\n",
    "        X_t = X[T == t]\n",
    "        Y_t = Y[T == t]\n",
    "        PredictionFunctions[:, t] = getPrediction(X_t, Y_t, X)\n",
    "    for i in range(0, num_t):\n",
    "        for j in range(i, num_t):\n",
    "            Correlations[i, j] = np.cov(PredictionFunctions[:, i], PredictionFunctions[:, j])[0, 1]\n",
    "            Correlations[j , i] = Correlations[i, j]\n",
    "    return PredictionFunctions, Correlations"
   ]
  },
  {
   "cell_type": "code",
   "execution_count": 142,
   "metadata": {},
   "outputs": [
    {
     "name": "stdout",
     "output_type": "stream",
     "text": [
      "[[ 2.06600012  3.98099934]\n",
      " [ 3.05350012  5.98599915]\n",
      " [ 4.04099989  7.99099849]\n",
      " [ 5.02850013  9.99599783]\n",
      " [ 6.01600037 12.00099908]\n",
      " [ 7.00349966 14.00599842]\n",
      " [ 7.99100086 16.01099776]\n",
      " [ 8.97849919 18.0159971 ]\n",
      " [ 9.96600039 20.02099835]\n",
      " [10.95349968 22.02599959]]\n",
      "[[ 8.93893185 18.14942602]\n",
      " [18.14942602 36.85022667]]\n"
     ]
    }
   ],
   "source": [
    "T = np.array([0, 1, 0, 1, 0, 1, 0, 1, 0, 1])\n",
    "PredictionFunctions, Correlations = getFullCorrelation(X, T, Y, 2)\n",
    "print(PredictionFunctions)\n",
    "print(Correlations)"
   ]
  },
  {
   "cell_type": "code",
   "execution_count": null,
   "metadata": {},
   "outputs": [],
   "source": []
  },
  {
   "cell_type": "markdown",
   "metadata": {},
   "source": [
    "# MTGP with Normalizing (not working now - some error)"
   ]
  },
  {
   "cell_type": "code",
   "execution_count": 48,
   "metadata": {},
   "outputs": [],
   "source": [
    "# def kernelfunction(a, b):\n",
    "#     return np.dot(a, b) + 0.1\n",
    "    \n",
    "# def MTGPPredict(x_new, t_new, X, T, alpha, Cn_inv, Correlations, sigma2):\n",
    "#     N = len(X)\n",
    "#     Knew = np.zeros(N)\n",
    "#     for i in range(N):\n",
    "#         Knew[i] = kernelfunction(x_new, X[i])*Correlations[t_new , T[i]]\n",
    "#     mean = np.dot(Knew, alpha)\n",
    "#     var1 = np.dot(np.dot(Knew, Cn_inv) , Knew)\n",
    "#     var =  kernelfunction(x_new, x_new)*Correlations[t_new , t_new] + sigma2 - var1\n",
    "#     return mean, var\n",
    "\n",
    "# def MTGP(X, T, Y_raw, X_pred, T_pred, Correlations , sigma2 , num_task):\n",
    "#     N = len(X)\n",
    "    \n",
    "#     Y_task_mean = np.zeros(num_task)\n",
    "#     Y_task_var = np.zeros(num_task)\n",
    "#     Y = np.zeros(N)\n",
    "#     for t in range(0, num_task):\n",
    "#         Y_task_mean[t] = np.mean(Y_raw[T == t])\n",
    "#         Y_task_var[t] = np.std(Y_raw[T == t])\n",
    "#         if (Y_task_var[t] !=0):\n",
    "#             Y[T == t] = (Y_raw[T == t] - Y_task_mean[t])/Y_task_var[t]\n",
    "    \n",
    "#     Cn = np.zeros((N, N))\n",
    "    \n",
    "#     for i in range(0, N):\n",
    "#         for j in range(i, N):\n",
    "#             Cn[i, j] = kernelfunction(X[i],  X[j])*Correlations[T[i] , T[j]]\n",
    "#             Cn[j , i] = Cn[i , j]\n",
    "#     Cn = Cn + sigma2*np.identity(N)\n",
    "#     Cn_inv = np.linalg.inv(Cn)\n",
    "#     alpha = np.dot(Cn_inv, Y)\n",
    "#     Y_pred_mean = np.zeros(N)\n",
    "#     Y_pred_var = np.zeros(N)\n",
    "    \n",
    "#     for i in range(N):\n",
    "#         Y_pred_mean[i], Y_pred_var[i] = MTGPPredict(X_pred[i] , T_pred[i] , X, T,alpha, Cn_inv, Correlations , sigma2 )\n",
    "        \n",
    "#     for t in range(0, num_task):\n",
    "#         if (Y_task_var[t] !=0):\n",
    "#             Y_pred_mean[T == t] = (Y_pred_mean[T == t]*Y_task_var[t] + Y_task_mean[t])\n",
    "    \n",
    "#     print(np.array(Y_pred_mean))\n",
    "\n",
    "#     return Y_pred_mean, Y_pred_var"
   ]
  },
  {
   "cell_type": "markdown",
   "metadata": {},
   "source": [
    "# MTGP without normalizing y"
   ]
  },
  {
   "cell_type": "code",
   "execution_count": 214,
   "metadata": {
    "collapsed": true
   },
   "outputs": [],
   "source": [
    "# def kernelfunction(a, b):\n",
    "#     return np.dot(a, b) + 0.1\n",
    "\n",
    "def kernelfunction(a, b):\n",
    "    return  a*a*b*b + a*b + 1\n",
    "    \n",
    "def MTGPPredict(x_new, t_new, X, T, alpha, Cn_inv, Correlations, sigma2):\n",
    "    N = len(X)\n",
    "    Knew = np.zeros(N)\n",
    "    for i in range(N):\n",
    "        Knew[i] = kernelfunction(x_new, X[i])*Correlations[t_new , T[i]]\n",
    "    mean = np.dot(Knew, alpha)\n",
    "    var1 = np.dot(np.dot(Knew, Cn_inv) , Knew)\n",
    "    var =  kernelfunction(x_new, x_new)*Correlations[t_new , t_new] + sigma2 - var1\n",
    "    return mean, var\n",
    "\n",
    "def MTGP(X, T, Y, X_pred, T_pred, Correlations , sigma2 , num_task):\n",
    "    N = len(X)    \n",
    "    Cn = np.zeros((N, N))\n",
    "    \n",
    "    for i in range(0, N):\n",
    "        for j in range(i, N):\n",
    "            Cn[i, j] = kernelfunction(X[i],  X[j])*Correlations[T[i] , T[j]]\n",
    "            Cn[j , i] = Cn[i , j]\n",
    "    Cn = Cn + sigma2*np.identity(N)\n",
    "    Cn_inv = np.linalg.inv(Cn)\n",
    "    alpha = np.dot(Cn_inv, Y)\n",
    "    Y_pred_mean = np.zeros(len(X_pred))\n",
    "    Y_pred_var = np.zeros(len(X_pred))\n",
    "    \n",
    "    for i in range(len(X_pred)):\n",
    "        Y_pred_mean[i], Y_pred_var[i] = MTGPPredict(X_pred[i] , T_pred[i] , X, T,alpha, Cn_inv, Correlations , sigma2 )\n",
    "    return Y_pred_mean, Y_pred_var"
   ]
  },
  {
   "cell_type": "code",
   "execution_count": 205,
   "metadata": {},
   "outputs": [],
   "source": [
    "def getProb(Y_true, Y_pred_mean, Y_pred_var):\n",
    "    prob = np.zeros(len(Y_true))\n",
    "    for i in range(len(Y_true)):\n",
    "        p = scipy.stats.norm(Y_pred_mean[i], Y_pred_var[i]).pdf(Y_true[i])\n",
    "        prob[i] = p \n",
    "    return prob\n",
    "    \n",
    "\n",
    "def getMTGPTask(X, curr_T, Y , sigma2, num_task):\n",
    "    PredictionFunctions, Correlations = getFullCorrelation(X, T, Y, num_task)\n",
    "    X_pred = np.repeat(X, num_task)\n",
    "    T_pred = np.repeat(np.repeat([np.arange(num_task)], len(X), axis=0), 1)\n",
    "    Y_pred_mean, Y_pred_var = MTGP(X, curr_T, Y, X_pred, T_pred, Correlations , sigma2 , num_task)\n",
    "    Y_true = np.repeat(np.array(Y), num_task)\n",
    "    Prob_Task = getProb(Y_true, Y_pred_mean, Y_pred_var)\n",
    "    new_Tasks = np.zeros(len(X))\n",
    "    for i in range(len(X)):\n",
    "        new_Tasks[i] = np.argmax(Prob_Task[ i*num_task : (i+1)*num_task ])\n",
    "    return new_Tasks\n",
    "\n",
    "    \n",
    "    "
   ]
  },
  {
   "cell_type": "code",
   "execution_count": 255,
   "metadata": {},
   "outputs": [],
   "source": [
    "from sklearn import tree\n",
    "clf = tree.DecisionTreeClassifier(max_depth = 10, random_state = 2404)\n",
    "\n",
    "T = np.array([0, 1, 0, 0, 0, 1, 0, 0, 0, 0])\n",
    "\n",
    "for i in range(5):\n",
    "    T = getMTGPTask(X, T, Y, 0.1, len(set(T))).astype(int)\n",
    "    clf.fit(X, T)\n",
    "    T  = clf.predict(X)\n",
    "    print(T)\n",
    "\n",
    "\n",
    "Y_pred_mean, Y_pred_var = MTGP(X, T, Y, X, T , Correlations , 0.1, len(set(T)))\n",
    "\n",
    "prediction = pd.DataFrame(Y_pred_mean, columns=['pred'])\n",
    "prediction['True'] = Y\n",
    "print(prediction)\n",
    "diff = prediction['pred'] - prediction['True']\n",
    "loss = math.sqrt(np.dot(diff, diff)/len(prediction['pred']))\n",
    "print(T)\n",
    "print('loss = ' ,loss)"
   ]
  },
  {
   "cell_type": "code",
   "execution_count": 84,
   "metadata": {},
   "outputs": [
    {
     "data": {
      "text/plain": [
       "0.3989422804014327"
      ]
     },
     "execution_count": 84,
     "metadata": {},
     "output_type": "execute_result"
    }
   ],
   "source": [
    "scipy.stats.norm(0, 1).pdf(0)"
   ]
  },
  {
   "cell_type": "markdown",
   "metadata": {},
   "source": [
    "# Test for MTGP"
   ]
  },
  {
   "cell_type": "code",
   "execution_count": 49,
   "metadata": {},
   "outputs": [
    {
     "name": "stdout",
     "output_type": "stream",
     "text": [
      "[ 1.9910133   2.97648597  3.96195863  4.94743129  5.93290395  6.91837659\n",
      "  7.90384927  8.88932194  9.87479458 10.86026723]\n",
      "[ 4.04251163  6.04339392  8.04427622 10.04515854 12.04604085 14.04692316\n",
      " 16.04780548 18.04868782 20.04957012 22.05045242]\n"
     ]
    }
   ],
   "source": [
    "c = np.zeros(10)\n",
    "c = c.astype(int)\n",
    "MTGP(X, T, Y, X, c , Correlations , 0.000001, 2)\n",
    "c = c + 1\n",
    "MTGP(X, T, Y, X, c , Correlations , 0.000001, 2)\n"
   ]
  },
  {
   "cell_type": "code",
   "execution_count": 266,
   "metadata": {
    "scrolled": true
   },
   "outputs": [
    {
     "name": "stdout",
     "output_type": "stream",
     "text": [
      "(100, 1) (100,)\n",
      "[0 0 0 0 0 0 2 0 0 0 0 0 0 0 0 0 0 2 2 0 2 0 2 2 0 0 0 2 2 2 2 0 1 0 2 0 0\n",
      " 2 2 0 0 0 0 0 1 0 2 0 2 0]\n",
      "[0 0 0 2 0 0 2 0 0 0 1 1 0 0 1 0 0 2 0 1 2 0 2 1 0 0 0 2 2 2 2 0 0 0 2 0 0\n",
      " 1 0 0 0 0 1 0 0 0 0 0 2 0]\n",
      "[0 0 0 1 0 0 2 0 0 0 2 0 0 0 0 1 0 2 1 2 2 0 2 1 0 0 0 2 2 2 2 0 0 0 2 0 0\n",
      " 1 1 0 0 0 0 0 0 1 1 0 2 0]\n",
      "[1 0 0 1 0 0 2 0 0 0 0 0 0 0 0 1 0 2 1 0 2 0 2 1 0 0 0 2 2 2 2 0 1 0 2 0 0\n",
      " 1 1 0 0 0 0 0 1 1 1 0 2 0]\n",
      "[1 0 0 1 0 0 2 0 0 0 0 0 0 0 0 1 0 2 1 0 2 0 2 2 0 0 0 2 1 2 2 0 1 0 2 0 0\n",
      " 1 1 0 0 0 0 0 1 1 1 0 2 0]\n",
      "[1 0 0 1 0 0 2 0 0 0 0 0 0 0 0 1 0 2 1 0 2 0 2 2 0 0 0 2 1 2 2 0 1 0 2 0 0\n",
      " 1 1 0 0 0 0 0 1 1 1 0 2 0]\n",
      "[1 0 0 1 0 0 2 0 0 0 0 0 0 0 0 1 0 2 1 0 2 0 2 2 0 0 0 2 1 2 2 0 1 0 2 0 0\n",
      " 1 1 0 0 0 0 0 1 1 1 0 2 0]\n",
      "[1 0 0 1 0 0 2 0 0 0 0 0 0 0 0 1 0 2 1 0 2 0 2 2 0 0 0 2 1 2 2 0 1 0 2 0 0\n",
      " 1 1 0 0 0 0 0 1 1 1 0 2 0]\n",
      "[1 0 0 1 0 0 2 0 0 0 0 0 0 0 0 1 0 2 1 0 2 0 2 2 0 0 0 2 1 2 2 0 1 0 2 0 0\n",
      " 1 1 0 0 0 0 0 1 1 1 0 2 0]\n",
      "[1 0 0 1 0 0 2 0 0 0 0 0 0 0 0 1 0 2 1 0 2 0 2 2 0 0 0 2 1 2 2 0 1 0 2 0 0\n",
      " 1 1 0 0 0 0 0 1 1 1 0 2 0]\n",
      "        pred      True\n",
      "0  -0.636167       NaN\n",
      "1  -0.747611       NaN\n",
      "2   0.648169  0.091797\n",
      "3  -0.931822       NaN\n",
      "4   0.575908  0.080519\n",
      "5   0.612346  0.328549\n",
      "6  -0.271114       NaN\n",
      "7   1.137925       NaN\n",
      "8   0.538858  0.547966\n",
      "9   0.942980  0.457980\n",
      "10 -0.137379  0.573587\n",
      "11 -0.184857  0.618643\n",
      "12  1.058058       NaN\n",
      "13  0.850230  0.633680\n",
      "14 -0.281655  0.713512\n",
      "15 -0.693043       NaN\n",
      "16  0.751960       NaN\n",
      "17 -0.242933       NaN\n",
      "18  0.608289       NaN\n",
      "19 -0.090513  0.899691\n",
      "20 -0.263979       NaN\n",
      "21  0.972669       NaN\n",
      "22 -0.256905  0.989041\n",
      "23  0.138867       NaN\n",
      "24 -0.802451  1.037997\n",
      "25 -1.323615  1.016208\n",
      "26  1.001745  0.900951\n",
      "27 -0.229198       NaN\n",
      "28  0.041726  1.062330\n",
      "29  0.140490  0.908505\n",
      "30 -0.236036       NaN\n",
      "31  0.683380  1.009558\n",
      "32  0.588616  0.898717\n",
      "33 -0.431453       NaN\n",
      "34 -0.249889  0.726893\n",
      "35 -1.263254  0.807618\n",
      "36  0.881760  0.674381\n",
      "37  0.635684  0.496900\n",
      "38  0.617702  0.587791\n",
      "39  0.384521       NaN\n",
      "40  0.785331  0.552138\n",
      "41  0.462916       NaN\n",
      "42 -0.232950  0.631905\n",
      "43 -1.203506       NaN\n",
      "44  0.578357       NaN\n",
      "45 -0.840166       NaN\n",
      "46  0.626834       NaN\n",
      "47 -1.144373       NaN\n",
      "48  0.143560       NaN\n",
      "49 -0.913971  0.041518\n",
      "[1 0 0 1 0 0 2 0 0 0 0 0 0 0 0 1 0 2 1 0 2 0 2 2 0 0 0 2 1 2 2 0 1 0 2 0 0\n",
      " 1 1 0 0 0 0 0 1 1 1 0 2 0]\n",
      "loss =  nan\n"
     ]
    }
   ],
   "source": [
    "def genSine(low, high, count):\n",
    "    noise_mean = 0\n",
    "    noise_variance = 0.1\n",
    "    x = np.linspace(low, high, num=count)\n",
    "    y = np.sin(x)+np.random.normal(noise_mean, noise_variance, count)\n",
    "    return x.reshape((count,1)), y\n",
    "\n",
    "data_x, data_y = genSine(0, 2*np.pi, 100)\n",
    "print(data_x.shape, data_y.shape)\n",
    "\n",
    "Data = pd.DataFrame(data_x )\n",
    "Data.columns = ['x']\n",
    "Data['y'] = data_y\n",
    "Data_train = Data.sample(frac=0.5, random_state=2404)\n",
    "\n",
    "X = Data_train['x']\n",
    "X  = X.values.reshape((50, 1))\n",
    "Y = Data_train['y']\n",
    "\n",
    "random.seed(2404)\n",
    "T = np.random.randint(3, size=len(X))\n",
    "\n",
    "for i in range(10):\n",
    "    T = getMTGPTask(X, T, Y, 0.1, len(set(T))).astype(int)\n",
    "    clf.fit(X, T)\n",
    "    T  = clf.predict(X)\n",
    "    print(T)\n",
    "\n",
    "PredictionFunctions, Correlations = getFullCorrelation(X, T, Y, 3)\n",
    "\n",
    "Y_pred_mean, Y_pred_var = MTGP(X, T, Y, X, T , Correlations , 0.1, len(set(T)))\n",
    "\n",
    "prediction = pd.DataFrame(Y_pred_mean, columns=['pred'])\n",
    "prediction['True'] = Data_train['y']\n",
    "print(prediction)\n",
    "diff = prediction['pred'] - prediction['True']\n",
    "loss = math.sqrt(np.dot(diff, diff)/len(prediction['pred']))\n",
    "print(T)\n",
    "print('loss = ' ,loss)\n",
    "\n",
    "\n"
   ]
  },
  {
   "cell_type": "code",
   "execution_count": 290,
   "metadata": {},
   "outputs": [
    {
     "name": "stdout",
     "output_type": "stream",
     "text": [
      "0.47182693004201387\n",
      "0.7085801545780499\n"
     ]
    }
   ],
   "source": [
    "gp = GaussianProcessRegressor(kernel=kernels.DotProduct(), optimizer='fmin_l_bfgs_b' , alpha=1e-3, normalize_y=True)\n",
    "gp.fit(X, Y)\n",
    "X_test = Data['x']\n",
    "X_test  = X_test.values.reshape((100, 1))\n",
    "Y_test = Data['y']\n",
    "Y_pred = gp.predict(X_test)\n",
    "diff = Y_pred - Y_test\n",
    "print(math.sqrt(np.dot(diff, diff)/100))\n",
    "print(math.sqrt(np.dot(Y_test, Y_test)/100))\n"
   ]
  },
  {
   "cell_type": "code",
   "execution_count": 294,
   "metadata": {},
   "outputs": [
    {
     "data": {
      "text/plain": [
       "3"
      ]
     },
     "execution_count": 294,
     "metadata": {},
     "output_type": "execute_result"
    }
   ],
   "source": [
    "Correlations.shape[0]"
   ]
  },
  {
   "cell_type": "code",
   "execution_count": 292,
   "metadata": {},
   "outputs": [
    {
     "name": "stdout",
     "output_type": "stream",
     "text": [
      "[0 0 0 2 0 0 2 0 0 0 0 0 0 0 0 0 0 2 0 0 2 0 2 1 0 0 0 2 0 1 2 0 0 0 2 0 0\n",
      " 1 0 0 0 0 0 0 0 2 1 0 1 0]\n",
      "[1 0 0 1 0 0 2 0 0 0 0 0 0 0 0 1 0 2 1 0 2 0 2 2 0 0 0 2 1 2 2 0 1 0 2 0 0\n",
      " 1 1 0 0 0 0 0 1 1 1 0 2 0]\n"
     ]
    }
   ],
   "source": [
    "from sklearn.naive_bayes import GaussianNB\n",
    "clf = GaussianNB()\n",
    "clf.fit(X, T)\n",
    "print(clf.predict(X))\n",
    "print(T)"
   ]
  }
 ],
 "metadata": {
  "kernelspec": {
   "display_name": "Python 3",
   "language": "python",
   "name": "python3"
  },
  "language_info": {
   "codemirror_mode": {
    "name": "ipython",
    "version": 3
   },
   "file_extension": ".py",
   "mimetype": "text/x-python",
   "name": "python",
   "nbconvert_exporter": "python",
   "pygments_lexer": "ipython3",
   "version": "3.6.1"
  }
 },
 "nbformat": 4,
 "nbformat_minor": 2
}
