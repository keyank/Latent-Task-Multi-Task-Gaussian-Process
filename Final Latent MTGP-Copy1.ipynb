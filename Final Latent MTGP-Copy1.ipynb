{
 "cells": [
  {
   "cell_type": "code",
   "execution_count": 2,
   "metadata": {
    "collapsed": true
   },
   "outputs": [],
   "source": [
    "import numpy as np\n",
    "import pandas as pd\n",
    "import math\n",
    "import scipy\n",
    "import sklearn\n",
    "from sklearn.gaussian_process.kernels import ConstantKernel, RBF, DotProduct\n",
    "from sklearn.gaussian_process import GaussianProcessRegressor\n",
    "import sklearn.gaussian_process.kernels as kernels\n",
    "from scipy.stats import spearmanr, pearsonr\n",
    "import scipy.stats\n",
    "import random\n",
    "\n",
    "import warnings\n",
    "warnings.filterwarnings('ignore')\n",
    "\n",
    "from matplotlib import pyplot as plt \n",
    "import seaborn as sns "
   ]
  },
  {
   "cell_type": "markdown",
   "metadata": {},
   "source": [
    "# Model Hyper-Parameters"
   ]
  },
  {
   "cell_type": "code",
   "execution_count": 3,
   "metadata": {
    "collapsed": true
   },
   "outputs": [],
   "source": [
    "Data = pd.read_csv('Motor.csv')\n",
    "\n",
    "Data_train  = Data.sample(frac = 0.6)\n",
    "Data_test = Data.sample(frac= 1)\n",
    "num_task = 3\n",
    "\n",
    "X = Data_train['x']\n",
    "X  = X.values.reshape((len(X), 1))\n",
    "Y = Data_train['y']\n",
    "\n",
    "X_test = Data_test['x']\n",
    "X_test  = X_test.values.reshape((len(X_test), 1))\n",
    "Y_test = Data_test['y']"
   ]
  },
  {
   "cell_type": "code",
   "execution_count": 4,
   "metadata": {
    "collapsed": true
   },
   "outputs": [],
   "source": [
    "def getPrediction(X, Y, X1):\n",
    "    gp = GaussianProcessRegressor(kernel=kernels.DotProduct(), optimizer='fmin_l_bfgs_b' , alpha=1e-10, normalize_y=True)\n",
    "    gp.fit(X, Y)\n",
    "    return gp.predict(X1)\n",
    "\n",
    "\n",
    "def getFullCorrelation(X, T, Y, num_task):\n",
    "    PredictionFunctions = np.zeros((len(X) , num_task ))\n",
    "    Correlations = np.zeros((num_task, num_task))\n",
    "    if (Correlations.shape[0] != num_task ):\n",
    "        print(Correlations.shape[0], num_task)\n",
    "        print('ERROR - NUMBER OF TASKS NOT MATCHING- getFULLCorr !!!')\n",
    "        return 0\n",
    "    \n",
    "    for t in range(0, num_task):\n",
    "        X_t = X[T == t]\n",
    "        Y_t = Y[T == t]\n",
    "        PredictionFunctions[:, t] = getPrediction(X_t, Y_t, X)\n",
    "    for i in range(0, num_task):\n",
    "        for j in range(i, num_task):\n",
    "            Correlations[i, j] = np.cov(PredictionFunctions[:, i], PredictionFunctions[:, j])[0, 1]\n",
    "            Correlations[j , i] = Correlations[i, j]\n",
    "    return PredictionFunctions, Correlations"
   ]
  },
  {
   "cell_type": "code",
   "execution_count": 5,
   "metadata": {
    "collapsed": true
   },
   "outputs": [],
   "source": [
    "# def kernelfunction(a, b):\n",
    "#     return  math.exp(-1*(np.dot(a-b , a-b) + 1)  )\n",
    "\n",
    "# def kernelfunction(a, b):\n",
    "#     return  np.dot(a, b) + 1\n",
    "\n",
    "def kernelfunction(a, b):\n",
    "    return  np.dot(a, b)*np.dot(a, b) + np.dot(a, b) + 0.01\n",
    "\n",
    "# def kernelfunction(a, b):\n",
    "#     return  np.dot(a, b)*np.dot(a, b)*np.dot(a, b) + np.dot(a, b)*np.dot(a, b) + np.dot(a, b) + 1\n",
    "\n",
    "\n",
    "\n",
    "def MTGPPredict(x_new, t_new, X, T, alpha, Cn_inv, Correlations, sigma2):\n",
    "    N = len(X)\n",
    "    Knew = np.zeros(N)\n",
    "    for i in range(N):\n",
    "        Knew[i] = kernelfunction(x_new, X[i])*Correlations[t_new , T[i]]\n",
    "    mean = np.dot(Knew, alpha)\n",
    "    var1 = np.dot(np.dot(Knew, Cn_inv) , Knew)\n",
    "    var =  kernelfunction(x_new, x_new)*Correlations[t_new , t_new] + sigma2 - var1\n",
    "    return mean, var\n",
    "\n",
    "\n",
    "\n",
    "def MTGP(X, T, Y, X_pred, T_pred, Correlations , sigma2 , num_task):\n",
    "    \n",
    "    if (Correlations.shape[0] != num_task):\n",
    "        print(Correlations.shape[0], num_task)\n",
    "        print('ERROR - NUMBER OF TASKS NOT MATCHING !!!')\n",
    "        return 0\n",
    "    \n",
    "    N = len(X)    \n",
    "    Cn = np.zeros((N, N))\n",
    "    \n",
    "    for i in range(0, N):\n",
    "        for j in range(i, N):\n",
    "            Cn[i, j] = kernelfunction(X[i],  X[j])*Correlations[T[i] , T[j]]\n",
    "            Cn[j , i] = Cn[i , j]\n",
    "            \n",
    "    Cn = Cn + sigma2*np.identity(N)\n",
    "    \n",
    "    Cn_inv = np.linalg.inv(Cn)\n",
    "    alpha = np.dot(Cn_inv, Y)\n",
    "    \n",
    "    Y_pred_mean = np.zeros(len(X_pred))\n",
    "    Y_pred_var = np.zeros(len(X_pred))\n",
    "    \n",
    "    for i in range(len(X_pred)):\n",
    "        Y_pred_mean[i], Y_pred_var[i] = MTGPPredict(X_pred[i] , T_pred[i] , X, T,alpha, Cn_inv, Correlations , sigma2 )\n",
    "    return Y_pred_mean, Y_pred_var\n",
    "\n",
    "\n",
    "def MakeTask(T):\n",
    "    dictionary = dict( zip(list(set(T)) , np.arange(len(set(T))))  )\n",
    "    for i in range(len(T)):\n",
    "        T[i] = dictionary[T[i]]\n",
    "    return T\n",
    "        "
   ]
  },
  {
   "cell_type": "code",
   "execution_count": 1,
   "metadata": {
    "scrolled": true
   },
   "outputs": [],
   "source": [
    "# from sklearn.mixture import GMM\n",
    "\n",
    "# gmm = GMM(n_components=5)\n",
    "# gmm.fit(X)\n",
    "\n",
    "# T = gmm.predict(X)\n",
    "# T = MakeTask(T)\n",
    "\n",
    "# T_test = gmm.predict(X_test)\n",
    "# T_test = MakeTask(T_test)\n",
    "\n",
    "# num_task = len(set(T))\n",
    "# PredictionFunctions, Correlations = getFullCorrelation(X, T, Y, num_task)\n",
    "# print('Fit on train Data')\n",
    "\n",
    "# gvar = 1e-12\n",
    "\n",
    "# Y_pred_mean, Y_pred_var = MTGP(X, T, Y, X, T , Correlations , gvar , num_task)\n",
    "# # print((X, Y_pred_mean))\n",
    "# fr =pd.DataFrame({'class' : T, 'value': Y_pred_mean, 'input' : X[:, 0]})\n",
    "# plotPoints(fr)\n",
    "\n",
    "# print('Fit on Test Data')\n",
    "# Y_pred_mean, Y_pred_var = MTGP(X, T, Y, X_test, T_test , Correlations , gvar , num_task)\n",
    "# # print((X_test, Y_pred_mean))\n",
    "# Y_pred_mean = np.array(Y_pred_mean)\n",
    "# # Y_pred_mean[Y_pred_mean < -150] = -150\n",
    "# # Y_pred_mean[Y_pred_mean > 150] = 150\n",
    "# fr =pd.DataFrame({'class' : T_test, 'value': Y_pred_mean, 'input' : X_test[:, 0]})\n",
    "# plotPoints(fr)\n",
    "\n",
    "# print('True Data')\n",
    "# fr =pd.DataFrame({'class' : T_test, 'value': Y_test, 'input' : X_test[:, 0]})\n",
    "# plotPoints(fr)\n",
    "\n",
    "# T = np.array( np.zeros(len(X)) )\n",
    "# T = MakeTask(T)\n",
    "# T = T.astype(int)\n",
    "\n",
    "# T_test = np.array( np.zeros(len(X_test)) )\n",
    "# T_test = MakeTask(T_test)\n",
    "# T_test = T_test.astype(int)\n",
    "\n",
    "# num_task = len(set(T))\n",
    "# PredictionFunctions, Correlations = getFullCorrelation(X, T, Y, num_task)\n",
    "\n",
    "# Y_pred_mean, Y_pred_var = MTGP(X, T, Y, X_test, T_test , Correlations , gvar , num_task)\n",
    "# print('Single Task ')\n",
    "# fr =pd.DataFrame({'class' : T_test, 'value': Y_pred_mean, 'input' : X_test[:, 0]})\n",
    "# plotPoints(fr)\n"
   ]
  },
  {
   "cell_type": "code",
   "execution_count": 11,
   "metadata": {
    "collapsed": true
   },
   "outputs": [],
   "source": [
    "def plotPoints(fr):\n",
    "    sns.lmplot(x='input' , y='value', data=fr, hue='class',palette='hls', fit_reg=False,size= 5, aspect=5/3, legend_out=False,scatter_kws={\"s\": 70})\n",
    "    plt.show()\n",
    "    \n",
    "\n",
    "def plotLine(fr):\n",
    "    sns.pointplot(x='input' , y='value', data=fr, hue='class',palette='hls', fit_reg=False,size= 5, aspect=5/3, legend_out=False,scatter_kws={\"s\": 70})\n",
    "    plt.show()\n",
    "\n"
   ]
  },
  {
   "cell_type": "code",
   "execution_count": null,
   "metadata": {
    "collapsed": true
   },
   "outputs": [],
   "source": []
  },
  {
   "cell_type": "code",
   "execution_count": null,
   "metadata": {
    "collapsed": true
   },
   "outputs": [],
   "source": []
  },
  {
   "cell_type": "code",
   "execution_count": null,
   "metadata": {},
   "outputs": [],
   "source": []
  },
  {
   "cell_type": "code",
   "execution_count": null,
   "metadata": {
    "collapsed": true
   },
   "outputs": [],
   "source": []
  },
  {
   "cell_type": "code",
   "execution_count": null,
   "metadata": {
    "collapsed": true
   },
   "outputs": [],
   "source": []
  },
  {
   "cell_type": "code",
   "execution_count": null,
   "metadata": {
    "collapsed": true
   },
   "outputs": [],
   "source": []
  }
 ],
 "metadata": {
  "kernelspec": {
   "display_name": "Python 3",
   "language": "python",
   "name": "python3"
  },
  "language_info": {
   "codemirror_mode": {
    "name": "ipython",
    "version": 3
   },
   "file_extension": ".py",
   "mimetype": "text/x-python",
   "name": "python",
   "nbconvert_exporter": "python",
   "pygments_lexer": "ipython3",
   "version": "3.6.1"
  }
 },
 "nbformat": 4,
 "nbformat_minor": 2
}
